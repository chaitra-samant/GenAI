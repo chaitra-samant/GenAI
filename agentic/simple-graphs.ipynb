{
 "cells": [
  {
   "cell_type": "markdown",
   "id": "a71b4b7f",
   "metadata": {},
   "source": [
    "#T1 - Simple graph"
   ]
  },
  {
   "cell_type": "code",
   "execution_count": 12,
   "id": "22968c82",
   "metadata": {},
   "outputs": [],
   "source": [
    "##simple graph\n",
    "from typing import Dict,TypedDict\n",
    "from langgraph.graph import StateGraph\n",
    "##building agentstate\n",
    "\n",
    "class AgentState(TypedDict): ##state schema\n",
    "    message: str\n",
    "\n",
    "\n",
    "def greeting_node(state: AgentState) -> AgentState:\n",
    "    \"\"\"Simple node that adds a greeting message to the state\"\"\"\n",
    "    state['message'] = \"Hey \" + state[\"message\"] + \" how is your day going?\"\n",
    "    return state\n"
   ]
  },
  {
   "cell_type": "code",
   "execution_count": 13,
   "id": "372a25e0",
   "metadata": {},
   "outputs": [],
   "source": [
    "##build a graph\n",
    "graph=StateGraph(AgentState)\n",
    "graph.add_node(\"greeter\", greeting_node)\n",
    "\n",
    "graph.set_entry_point(\"greeter\")\n",
    "graph.set_finish_point(\"greeter\")\n",
    "\n",
    "app=graph.compile()"
   ]
  },
  {
   "cell_type": "code",
   "execution_count": 14,
   "id": "cf28fd83",
   "metadata": {},
   "outputs": [
    {
     "data": {
      "image/png": "[encoded data removed]",
      "text/plain": [
       "<IPython.core.display.Image object>"
      ]
     },
     "metadata": {},
     "output_type": "display_data"
    }
   ],
   "source": [
    "from IPython.display import Image,display\n",
    "display(Image(app.get_graph().draw_mermaid_png()))"
   ]
  },
  {
   "cell_type": "code",
   "execution_count": 15,
   "id": "151e04bc",
   "metadata": {},
   "outputs": [
    {
     "data": {
      "text/plain": [
       "'Hey Chai how is your day going?'"
      ]
     },
     "execution_count": 15,
     "metadata": {},
     "output_type": "execute_result"
    }
   ],
   "source": [
    "result=app.invoke({\"message\":\"Chai\"})\n",
    "\n",
    "result[\"message\"]"
   ]
  },
  {
   "cell_type": "code",
   "execution_count": 16,
   "id": "febef24e",
   "metadata": {},
   "outputs": [
    {
     "data": {
      "text/plain": [
       "'bob, you look fantastic'"
      ]
     },
     "execution_count": 16,
     "metadata": {},
     "output_type": "execute_result"
    }
   ],
   "source": [
    "####exercise: compliment agent\n",
    "\n",
    "class AgentState(TypedDict):\n",
    "    message: str\n",
    "\n",
    "def compliment_node(state: AgentState) -> AgentState:\n",
    "    \"\"\"Simple node tht gives compliments\"\"\"\n",
    "    state[\"message\"] = state[\"message\"] + \", you look fantastic\"\n",
    "    return state\n",
    "\n",
    "\n",
    "g1=StateGraph(AgentState)\n",
    "g1.add_node(\"comp\",compliment_node)\n",
    "g1.set_entry_point(\"comp\")\n",
    "g1.set_finish_point(\"comp\")\n",
    "app=g1.compile()\n",
    "\n",
    "res=app.invoke({\"message\":\"bob\"})\n",
    "res[\"message\"]\n"
   ]
  },
  {
   "cell_type": "markdown",
   "id": "26826645",
   "metadata": {},
   "source": [
    "#T2- handling multiple inputs"
   ]
  },
  {
   "cell_type": "code",
   "execution_count": 4,
   "id": "d26075ea",
   "metadata": {},
   "outputs": [],
   "source": [
    "###how to handle multiple inputs\n",
    "from typing import List,TypedDict\n",
    "from langgraph.graph import StateGraph"
   ]
  },
  {
   "cell_type": "code",
   "execution_count": 5,
   "id": "393d2021",
   "metadata": {},
   "outputs": [],
   "source": [
    "class AgentState(TypedDict): ##state scehma\n",
    "    values: List[int]\n",
    "    name: str\n",
    "    result: str\n",
    "\n",
    "def process_values(state: AgentState) -> AgentState: \n",
    "    \"\"\"This functions handles multiple different inputs\"\"\"\n",
    "\n",
    "    state[\"result\"] = f\"Hi there {state[\"name\"]}, your sum = {sum(state[\"values\"])}\"\n",
    "    return state\n",
    "\n"
   ]
  },
  {
   "cell_type": "code",
   "execution_count": 7,
   "id": "4efc7cd0",
   "metadata": {},
   "outputs": [],
   "source": [
    "graph=StateGraph(AgentState)\n",
    "graph.add_node(\"processor\",process_values)\n",
    "graph.set_entry_point(\"processor\")\n",
    "graph.set_finish_point(\"processor\")\n",
    "app=graph.compile()\n"
   ]
  },
  {
   "cell_type": "code",
   "execution_count": 8,
   "id": "f9c6e262",
   "metadata": {},
   "outputs": [
    {
     "data": {
      "image/png": "[encoded data removed]",
      "text/plain": [
       "<IPython.core.display.Image object>"
      ]
     },
     "metadata": {},
     "output_type": "display_data"
    }
   ],
   "source": [
    "from IPython.display import Image,display\n",
    "display(Image(app.get_graph().draw_mermaid_png()))"
   ]
  },
  {
   "cell_type": "code",
   "execution_count": 10,
   "id": "25faf511",
   "metadata": {},
   "outputs": [
    {
     "name": "stdout",
     "output_type": "stream",
     "text": [
      "{'values': [1, 2, 3, 4], 'name': 'Steve', 'result': 'Hi there Steve, your sum = 10'}\n"
     ]
    }
   ],
   "source": [
    "ans=app.invoke({\"values\":[1,2,3,4],\"name\":\"Steve\"})\n",
    "print(ans)"
   ]
  },
  {
   "cell_type": "code",
   "execution_count": 11,
   "id": "14439703",
   "metadata": {},
   "outputs": [
    {
     "data": {
      "text/plain": [
       "'Hi there Steve, your sum = 10'"
      ]
     },
     "execution_count": 11,
     "metadata": {},
     "output_type": "execute_result"
    }
   ],
   "source": [
    "ans[\"result\"]"
   ]
  },
  {
   "cell_type": "code",
   "execution_count": 16,
   "id": "8ef3fe93",
   "metadata": {},
   "outputs": [
    {
     "name": "stdout",
     "output_type": "stream",
     "text": [
      "Hey bob, your res is 10\n",
      "Hey bob, your res is 24\n"
     ]
    }
   ],
   "source": [
    "####exercise\n",
    "from typing import TypedDict, List\n",
    "from langgraph.graph import StateGraph\n",
    "\n",
    "class AgentState(TypedDict):\n",
    "    name: str\n",
    "    values: list\n",
    "    op: str\n",
    "    result: str\n",
    "\n",
    "\n",
    "def worker(state: AgentState) ->AgentState:\n",
    "    if state[\"op\"]==\"+\":\n",
    "        state[\"result\"] = \"Hey \"+ state[\"name\"]+f\", your res is {sum(state['values'])}\"\n",
    "    \n",
    "    else:\n",
    "        temp=1\n",
    "        for i in state[\"values\"]:\n",
    "            temp*=i\n",
    "        state[\"result\"] = \"Hey \"+ state[\"name\"]+f\", your res is {temp}\"\n",
    "\n",
    "    return state\n",
    "\n",
    "\n",
    "graph=StateGraph(AgentState)\n",
    "graph.add_node(\"worker\",worker)\n",
    "graph.set_entry_point(\"worker\")\n",
    "graph.set_finish_point(\"worker\")\n",
    "app=graph.compile()\n",
    "\n",
    "r1=app.invoke({\"name\":\"bob\",\"values\":[1,2,3,4],\"op\":\"+\"})\n",
    "print(r1[\"result\"])\n",
    "r2=app.invoke({\"name\":\"bob\",\"values\":[1,2,3,4],\"op\":\"*\"})\n",
    "print(r2[\"result\"])\n"
   ]
  },
  {
   "cell_type": "markdown",
   "id": "c4c78656",
   "metadata": {},
   "source": [
    "#T3 - Sequential graph : multiple nodes"
   ]
  },
  {
   "cell_type": "code",
   "execution_count": 22,
   "id": "7853d29d",
   "metadata": {},
   "outputs": [],
   "source": [
    "###how to handle multiple state\n",
    "from typing import List,TypedDict\n",
    "from langgraph.graph import StateGraph"
   ]
  },
  {
   "cell_type": "code",
   "execution_count": 23,
   "id": "42e5474f",
   "metadata": {},
   "outputs": [],
   "source": [
    "class AgentState(TypedDict):\n",
    "    name: str\n",
    "    age: str\n",
    "    final:str\n",
    "\n"
   ]
  },
  {
   "cell_type": "code",
   "execution_count": 24,
   "id": "b1963af3",
   "metadata": {},
   "outputs": [],
   "source": [
    "def first_node(state:AgentState)->AgentState:\n",
    "    \"\"\"\"This is the first node of the sequence\"\"\"\n",
    "    state[\"final\"]=f\"Hi {state[\"name\"]}\"\n",
    "    return state\n",
    "\n",
    "def second_node(state:AgentState)->AgentState:\n",
    "    \"\"\"\"This is the second node of the sequence\"\"\"\n",
    "    state[\"final\"]=state[\"final\"]+f\" You are {state[\"age\"]} years old\"\n",
    "    return state"
   ]
  },
  {
   "cell_type": "code",
   "execution_count": 30,
   "id": "46df01be",
   "metadata": {},
   "outputs": [],
   "source": [
    "graph=StateGraph(AgentState)\n",
    "graph.add_node(\"first_node\",first_node)\n",
    "graph.add_node(\"second_node\",second_node)\n",
    "\n",
    "graph.set_entry_point(\"first_node\")\n",
    "graph.add_edge(\"first_node\",\"second_node\")\n",
    "graph.set_finish_point(\"second_node\")\n",
    "\n",
    "app=graph.compile()"
   ]
  },
  {
   "cell_type": "code",
   "execution_count": 31,
   "id": "2606796d",
   "metadata": {},
   "outputs": [
    {
     "data": {
      "image/png": "[encoded data removed]",
      "text/plain": [
       "<IPython.core.display.Image object>"
      ]
     },
     "metadata": {},
     "output_type": "display_data"
    }
   ],
   "source": [
    "from IPython.display import Image,display\n",
    "display(Image(app.get_graph().draw_mermaid_png()))"
   ]
  },
  {
   "cell_type": "code",
   "execution_count": 33,
   "id": "19ad78b7",
   "metadata": {},
   "outputs": [
    {
     "data": {
      "text/plain": [
       "'Hi Charlie You are 20 years old'"
      ]
     },
     "execution_count": 33,
     "metadata": {},
     "output_type": "execute_result"
    }
   ],
   "source": [
    "res=app.invoke({\"name\":\"Charlie\",\"age\":\"20\"})\n",
    "res[\"final\"]"
   ]
  },
  {
   "cell_type": "code",
   "execution_count": 34,
   "id": "0176ab2a",
   "metadata": {},
   "outputs": [
    {
     "data": {
      "image/png": "[encoded data removed]",
      "text/plain": [
       "<IPython.core.display.Image object>"
      ]
     },
     "metadata": {},
     "output_type": "display_data"
    },
    {
     "name": "stdout",
     "output_type": "stream",
     "text": [
      "Hi Charlie your age is 20 and you skills are:Python Java C++ \n"
     ]
    }
   ],
   "source": [
    "####exercise3 triple nodes\n",
    "from typing import List,TypedDict\n",
    "from langgraph.graph import StateGraph\n",
    "\n",
    "class AgentState(TypedDict):\n",
    "    name: str\n",
    "    age: int\n",
    "    skills: list\n",
    "    res: str\n",
    "\n",
    "def first_node(state:AgentState)->AgentState:\n",
    "    \"\"\"\"this is the first node which gives a greeting\"\"\"\n",
    "    state[\"res\"] = f\"Hi {state[\"name\"]}\"\n",
    "    return state\n",
    "\n",
    "def second_node(state:AgentState)->AgentState:\n",
    "    \"\"\"This tells about users age\"\"\"\n",
    "    state[\"res\"] = state[\"res\"] + f\" your age is {state['age']}\"\n",
    "    return state\n",
    "\n",
    "def third_node(state:AgentState)->AgentState:\n",
    "    \"\"\"This lists all the skills\"\"\"\n",
    "    state[\"res\"] = state[\"res\"] + f\" and you skills are:\"\n",
    "    for n in state[\"skills\"]:\n",
    "        state[\"res\"] += n + \" \"\n",
    "\n",
    "    return state\n",
    "\n",
    "\n",
    "graph=StateGraph(AgentState)\n",
    "graph.add_node(\"first_node\",first_node)\n",
    "graph.add_node(\"second_node\",second_node)\n",
    "graph.add_node(\"third_node\",third_node)\n",
    "graph.set_entry_point(\"first_node\")\n",
    "graph.add_edge(\"first_node\", \"second_node\")\n",
    "graph.add_edge(\"second_node\", \"third_node\")\n",
    "graph.set_finish_point(\"third_node\")\n",
    "app=graph.compile()\n",
    "from IPython.display import Image, display\n",
    "display(Image(app.get_graph().draw_mermaid_png()))\n",
    "res=app.invoke({\"name\":\"Charlie\",\"age\":20,\"skills\":[\"Python\",\"Java\",\"C++\"]})\n",
    "print(res[\"res\"])"
   ]
  },
  {
   "cell_type": "markdown",
   "id": "463a37dd",
   "metadata": {},
   "source": [
    "#T4 - Conditional graph"
   ]
  },
  {
   "cell_type": "code",
   "execution_count": 35,
   "id": "c62aebbe",
   "metadata": {},
   "outputs": [],
   "source": [
    "from typing import TypedDict\n",
    "from langgraph.graph import StateGraph,START,END"
   ]
  },
  {
   "cell_type": "code",
   "execution_count": 36,
   "id": "671cdfe9",
   "metadata": {},
   "outputs": [],
   "source": [
    "class AgentState(TypedDict):\n",
    "    number1: int\n",
    "    number2: int\n",
    "    op: str\n",
    "    final: int\n",
    "    "
   ]
  },
  {
   "cell_type": "code",
   "execution_count": 37,
   "id": "8d68c7a0",
   "metadata": {},
   "outputs": [],
   "source": [
    "def adder(state:AgentState)->AgentState:\n",
    "    \"\"\"\" this adds 2 numbers\"\"\"\n",
    "    state[\"final\"]=state[\"number1\"]+state[\"number2\"]\n",
    "    return state\n",
    "\n",
    "def subtractor(state:AgentState)->AgentState:\n",
    "    \"\"\"This subtracts 2 numbers\"\"\"\n",
    "    state[\"final\"]=state[\"number1\"]-state[\"number2\"]\n",
    "    return state\n",
    "\n",
    "def decide_next_node(state:AgentState)->str:\n",
    "    \"\"\"This node decides which operation to perform\"\"\"\n",
    "    if state[\"op\"]=='+':\n",
    "        return \"addition_operation\"\n",
    "    elif state[\"op\"]==\"-\":\n",
    "        return \"sub_operation\"\n",
    "    \n"
   ]
  },
  {
   "cell_type": "code",
   "execution_count": 40,
   "id": "9f87e6c1",
   "metadata": {},
   "outputs": [
    {
     "data": {
      "image/png": "[encoded data removed]",
      "text/plain": [
       "<IPython.core.display.Image object>"
      ]
     },
     "metadata": {},
     "output_type": "display_data"
    }
   ],
   "source": [
    "graph=StateGraph(AgentState)\n",
    "graph.add_node(\"add\",adder)\n",
    "graph.add_node(\"sub\",subtractor)\n",
    "graph.add_node(\"router\",lambda state:state) ##passthrough function\n",
    "\n",
    "graph.add_edge(START,\"router\")\n",
    "graph.add_conditional_edges(\n",
    "    \"router\",\n",
    "    decide_next_node,\n",
    "    {   #edge:node\n",
    "        \"addition_operation\":\"add\",\n",
    "        \"sub_operation\":\"sub\"\n",
    "    })\n",
    "\n",
    "graph.add_edge(\"add\",END)\n",
    "graph.add_edge(\"sub\",END)\n",
    "\n",
    "app=graph.compile()\n",
    "from IPython.display import Image, display\n",
    "display(Image(app.get_graph().draw_mermaid_png()))\n"
   ]
  },
  {
   "cell_type": "code",
   "execution_count": 41,
   "id": "d1dde1c5",
   "metadata": {},
   "outputs": [
    {
     "name": "stdout",
     "output_type": "stream",
     "text": [
      "{'number1': 2, 'number2': 3, 'op': '+', 'final': 5}\n"
     ]
    }
   ],
   "source": [
    "res1=app.invoke({\"number1\":2,\"number2\":3,\"op\":\"+\"})\n",
    "print(res1)"
   ]
  },
  {
   "cell_type": "code",
   "execution_count": null,
   "id": "fb010473",
   "metadata": {},
   "outputs": [
    {
     "data": {
      "image/png": "[encoded data removed]",
      "text/plain": [
       "<IPython.core.display.Image object>"
      ]
     },
     "metadata": {},
     "output_type": "display_data"
    },
    {
     "name": "stdout",
     "output_type": "stream",
     "text": [
      "-1\n"
     ]
    }
   ],
   "source": [
    "####exercise4 - double of above graph\n",
    "class AgentState(TypedDict):\n",
    "    n1: int\n",
    "    n2: int\n",
    "    n3: int\n",
    "    n4: int\n",
    "    op1: str\n",
    "    op2: str\n",
    "    final: int\n",
    "\n",
    "def adder(state:AgentState)->AgentState:\n",
    "    \"\"\"this function adds 2 numbers\"\"\"\n",
    "    state[\"final\"] = state[\"n1\"] + state[\"n2\"]\n",
    "    return state    \n",
    "\n",
    "def adder2(state:AgentState)->AgentState:\n",
    "    \"\"\"this function adds 2 numbers\"\"\"\n",
    "    state[\"final\"] = state[\"n3\"] + state[\"n4\"]\n",
    "    return state\n",
    "\n",
    "def subtractor(state:AgentState)->AgentState:\n",
    "    \"\"\"this function subtracts 2 numbers\"\"\"\n",
    "    state[\"final\"] = state[\"n1\"] - state[\"n2\"]\n",
    "    return state \n",
    "\n",
    "def subtractor2(state:AgentState)->AgentState:\n",
    "    \"\"\"this function subtracts 2 numbers\"\"\"\n",
    "    state[\"final\"] = state[\"n3\"] - state[\"n4\"]\n",
    "    return state   \n",
    "\n",
    "def decide_next_node(state:AgentState)->str:\n",
    "    \"\"\"This function decides which operation to perform\"\"\"\n",
    "    if state[\"op1\"] == \"+\":\n",
    "        return \"addition_operation\"\n",
    "    elif state[\"op1\"] == \"-\":\n",
    "        return \"sub_operation\"\n",
    "\n",
    "def decide_next_node2(state:AgentState)->str:\n",
    "    \"\"\"This function decides which operation to perform\"\"\"\n",
    "    if state[\"op2\"] == \"+\":\n",
    "        return \"addition_operation2\"\n",
    "    elif state[\"op2\"] == \"-\":\n",
    "        return \"sub_operation2\"\n",
    "    \n",
    "\n",
    "graph = StateGraph(AgentState)\n",
    "graph.add_node(\"add\", adder)   \n",
    "graph.add_node(\"add2\", adder2)\n",
    "graph.add_node(\"sub\", subtractor)\n",
    "graph.add_node(\"sub2\", subtractor2)\n",
    "graph.add_node(\"router\", lambda state: state)  # passthrough function\n",
    "graph.add_edge(START, \"router\")\n",
    "graph.add_conditional_edges(\n",
    "    \"router\",\n",
    "    decide_next_node,\n",
    "    {   # edge:node\n",
    "        \"addition_operation\": \"add\",\n",
    "        \"sub_operation\": \"sub\"\n",
    "    }\n",
    ")\n",
    "graph.add_edge(\"add\", \"router2\")\n",
    "graph.add_edge(\"sub\", \"router2\")\n",
    "graph.add_node(\"router2\", lambda state: state)  # passthrough function\n",
    "graph.add_conditional_edges(\n",
    "    \"router2\",\n",
    "    decide_next_node2,\n",
    "    {   # edge:node\n",
    "        \"addition_operation2\": \"add2\",\n",
    "        \"sub_operation2\": \"sub2\"\n",
    "    }\n",
    ")\n",
    "graph.add_edge(\"add2\", END)\n",
    "graph.add_edge(\"sub2\", END)\n",
    "app = graph.compile()\n",
    "from IPython.display import Image, display\n",
    "display(Image(app.get_graph().draw_mermaid_png()))\n",
    "res1 = app.invoke({\"n1\": 2, \"n2\": 3, \"n3\": 4, \"n4\": 5, \"op1\": \"+\", \"op2\": \"-\"})\n",
    "print(res1[\"final\"])  \n",
    "    \n"
   ]
  },
  {
   "cell_type": "markdown",
   "id": "adb187a7",
   "metadata": {},
   "source": [
    "#T5 - Looping graph"
   ]
  },
  {
   "cell_type": "code",
   "execution_count": null,
   "id": "d698067c",
   "metadata": {},
   "outputs": [],
   "source": [
    "from typing import TypedDict,List\n",
    "from langgraph.graph import StateGraph,START,END\n",
    "import random"
   ]
  },
  {
   "cell_type": "code",
   "execution_count": 46,
   "id": "c360885f",
   "metadata": {},
   "outputs": [],
   "source": [
    "class AgentState(TypedDict):\n",
    "    name: str\n",
    "    number: List[int]\n",
    "    counter: int\n",
    "    "
   ]
  },
  {
   "cell_type": "code",
   "execution_count": 47,
   "id": "0abf7473",
   "metadata": {},
   "outputs": [],
   "source": [
    "def greeting_node(state: AgentState)->AgentState:\n",
    "    \"\"\"greets hi to person\"\"\"\n",
    "    state[\"name\"] = f\"Hi there, {state[\"name\"]}\"\n",
    "    state[\"counter\"] = 0\n",
    "    return state\n",
    "\n",
    "def random_node(state:AgentState)->AgentState:\n",
    "    \"\"\"Generates a random no from 0 to 10\"\"\"\n",
    "    state[\"number\"].append(random.randint(0,10))\n",
    "    state[\"counter\"]+=1\n",
    "    return state\n",
    "\n",
    "def shld_continue(state:AgentState)->AgentState:\n",
    "    \"\"\"Function to decide what to do next\"\"\"\n",
    "    if state[\"counter\"]<5:\n",
    "        print(\"Entering loop\",state[\"counter\"])\n",
    "        return \"loop\" ##conditional edge\n",
    "    else:\n",
    "        return \"end\" ##conditional edge\n",
    "    "
   ]
  },
  {
   "cell_type": "code",
   "execution_count": 48,
   "id": "29989a60",
   "metadata": {},
   "outputs": [],
   "source": [
    "#greeting ->random->random->random->random->random->END"
   ]
  },
  {
   "cell_type": "code",
   "execution_count": 50,
   "id": "3fe3574f",
   "metadata": {},
   "outputs": [
    {
     "data": {
      "image/png": "[encoded data removed]",
      "text/plain": [
       "<IPython.core.display.Image object>"
      ]
     },
     "metadata": {},
     "output_type": "display_data"
    },
    {
     "name": "stdout",
     "output_type": "stream",
     "text": [
      "Entering loop 1\n",
      "Entering loop 2\n",
      "Entering loop 3\n",
      "Entering loop 4\n"
     ]
    }
   ],
   "source": [
    "graph=StateGraph(AgentState)\n",
    "graph.add_node(\"greeting\",greeting_node)\n",
    "graph.add_node(\"random\",random_node)\n",
    "graph.add_edge(\"greeting\",\"random\")\n",
    "\n",
    "graph.add_conditional_edges(\n",
    "    \"random\",\n",
    "    shld_continue,\n",
    "    {\n",
    "        \"loop\":\"random\", ##self loop\n",
    "        \"end\":END ##terminating condition\n",
    "    }\n",
    ")\n",
    "\n",
    "graph.add_edge(START,\"greeting\")\n",
    "app=graph.compile()\n",
    "from IPython.display import Image, display  \n",
    "display(Image(app.get_graph().draw_mermaid_png()))\n",
    "result = app.invoke({\"name\": \"Alice\", \"number\": []})"
   ]
  },
  {
   "cell_type": "code",
   "execution_count": 52,
   "id": "30b9fa1c",
   "metadata": {},
   "outputs": [
    {
     "data": {
      "text/plain": [
       "{'name': 'Hi there, Alice', 'number': [9, 9, 7, 4, 5], 'counter': 5}"
      ]
     },
     "execution_count": 52,
     "metadata": {},
     "output_type": "execute_result"
    }
   ],
   "source": [
    "result"
   ]
  },
  {
   "cell_type": "code",
   "execution_count": 53,
   "id": "2398c905",
   "metadata": {},
   "outputs": [
    {
     "name": "stdout",
     "output_type": "stream",
     "text": [
      "Setting up the game. Secret number generated.\n",
      "Attempt 1: Guessing 10\n",
      "Hint: Higher\n",
      "Attempt 2: Guessing 15\n",
      "Hint: Lower\n",
      "Attempt 3: Guessing 12\n",
      "Hint: Lower\n",
      "Attempt 4: Guessing 11\n",
      "Hint: Correct! The number was 11.\n",
      "Game Over: Correct guess!\n",
      "Correct! The number was 11.\n"
     ]
    }
   ],
   "source": [
    "####exercise5 - higher or lower game\n",
    "from typing import TypedDict, List\n",
    "import random\n",
    "from langgraph.graph import StateGraph, START, END\n",
    "\n",
    "class AgentState(TypedDict):\n",
    "    player_name: str\n",
    "    guesses: List[int]\n",
    "    attempts: int\n",
    "    lower_bound: int\n",
    "    upper_bound: int\n",
    "    secret_number: int\n",
    "    hint: str\n",
    "    game_over: bool\n",
    "\n",
    "def setup_game(state: AgentState) -> AgentState:\n",
    "    \"\"\"Sets up the game by initializing the secret number.\"\"\"\n",
    "    state[\"secret_number\"] = random.randint(state[\"lower_bound\"], state[\"upper_bound\"])\n",
    "    state[\"attempts\"] = 0\n",
    "    state[\"guesses\"] = []\n",
    "    state[\"game_over\"] = False\n",
    "    state[\"hint\"] = \"\"\n",
    "    print(\"Setting up the game. Secret number generated.\")\n",
    "    return state\n",
    "\n",
    "def guess_number(state: AgentState) -> AgentState:\n",
    "    \"\"\"Guesses a number within the current bounds.\"\"\"\n",
    "    guess = (state[\"lower_bound\"] + state[\"upper_bound\"]) // 2\n",
    "    state[\"guesses\"].append(guess)\n",
    "    state[\"attempts\"] += 1\n",
    "    print(f\"Attempt {state['attempts']}: Guessing {guess}\")\n",
    "    return state\n",
    "\n",
    "def check_guess(state: AgentState) -> AgentState:\n",
    "    \"\"\"Checks the guess and provides a hint.\"\"\"\n",
    "    guess = state[\"guesses\"][-1]\n",
    "    if guess == state[\"secret_number\"]:\n",
    "        state[\"hint\"] = f\"Correct! The number was {state['secret_number']}.\"\n",
    "        state[\"game_over\"] = True\n",
    "    elif guess < state[\"secret_number\"]:\n",
    "        state[\"hint\"] = \"Higher\"\n",
    "        state[\"lower_bound\"] = guess + 1\n",
    "    else:\n",
    "        state[\"hint\"] = \"Lower\"\n",
    "        state[\"upper_bound\"] = guess - 1\n",
    "    print(f\"Hint: {state['hint']}\")\n",
    "    return state\n",
    "\n",
    "def should_continue(state: AgentState) -> str:\n",
    "    \"\"\"Decides whether to continue guessing or end the game.\"\"\"\n",
    "    if state[\"game_over\"]:\n",
    "        print(\"Game Over: Correct guess!\")\n",
    "        return \"end\"\n",
    "    elif state[\"attempts\"] >= 7:\n",
    "        state[\"game_over\"] = True\n",
    "        state[\"hint\"] = f\"You ran out of guesses. The number was {state['secret_number']}.\"\n",
    "        print(\"Game Over: Max attempts reached.\")\n",
    "        return \"end\"\n",
    "    else:\n",
    "        return \"guess\"\n",
    "\n",
    "# Define the graph\n",
    "graph = StateGraph(AgentState)\n",
    "graph.add_node(\"setup\", setup_game)\n",
    "graph.add_node(\"guess\", guess_number)\n",
    "graph.add_node(\"check\", check_guess)\n",
    "\n",
    "# Conditional edge to loop back to \"guess\" or end the game\n",
    "graph.add_conditional_edges(\n",
    "    \"check\",\n",
    "    should_continue,\n",
    "    {\n",
    "        \"guess\": \"guess\",\n",
    "        \"end\": END\n",
    "    }\n",
    ")\n",
    "\n",
    "# Set up the graph connections\n",
    "graph.set_entry_point(\"setup\")\n",
    "graph.add_edge(\"setup\", \"guess\")\n",
    "graph.add_edge(\"guess\", \"check\")\n",
    "\n",
    "# Compile the graph\n",
    "app = graph.compile()\n",
    "\n",
    "# Run the game\n",
    "initial_state = {\n",
    "    \"player_name\": \"Student\",\n",
    "    \"guesses\": [],\n",
    "    \"attempts\": 0,\n",
    "    \"lower_bound\": 1,\n",
    "    \"upper_bound\": 20,\n",
    "    \"secret_number\": None,\n",
    "    \"hint\": \"\",\n",
    "    \"game_over\": False\n",
    "}\n",
    "\n",
    "result = app.invoke(initial_state)\n",
    "print(result[\"hint\"])"
   ]
  },
  {
   "cell_type": "code",
   "execution_count": null,
   "id": "58b625ea",
   "metadata": {},
   "outputs": [],
   "source": []
  }
 ],
 "metadata": {
  "kernelspec": {
   "display_name": "myenv",
   "language": "python",
   "name": "python3"
  },
  "language_info": {
   "codemirror_mode": {
    "name": "ipython",
    "version": 3
   },
   "file_extension": ".py",
   "mimetype": "text/x-python",
   "name": "python",
   "nbconvert_exporter": "python",
   "pygments_lexer": "ipython3",
   "version": "3.12.4"
  }
 },
 "nbformat": 4,
 "nbformat_minor": 5
}
